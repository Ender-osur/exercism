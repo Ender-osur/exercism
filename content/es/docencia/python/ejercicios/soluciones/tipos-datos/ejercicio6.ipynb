{
  "cells": [
    {
      "cell_type": "markdown",
      "source": [
        "Primer ejercicio con tensor flow para crear la primera red neuronal para predecir diferentes conversiones de unidades: celsius a farenheit, celsius a kelvin, centímetros a metros, centrímetos a kilómetros y centrímetros a pulgadas"
      ],
      "metadata": {
        "id": "6FdwUEd-hMe7"
      }
    },
    {
      "cell_type": "code",
      "source": [
        "import tensorflow as tf\n",
        "import numpy as np\n"
      ],
      "metadata": {
        "id": "fggVfP2khtov"
      },
      "execution_count": 1,
      "outputs": []
    },
    {
      "cell_type": "code",
      "source": [
        "a_celsius=np.array([-10,0,10,20,30,40,50],dtype=float)\n",
        "a_farenheit=np.array([14,32,50,68,86,104,122],dtype=float)"
      ],
      "metadata": {
        "id": "3LPe_3aYsLtM"
      },
      "execution_count": 2,
      "outputs": []
    },
    {
      "cell_type": "code",
      "source": [
        "capa=tf.keras.layers.Dense(units=1, input_shape=[1])\n",
        "modelo=tf.keras.Sequential([capa])"
      ],
      "metadata": {
        "id": "5KiTFGoQtbGp"
      },
      "execution_count": 3,
      "outputs": []
    },
    {
      "cell_type": "code",
      "source": [
        "modelo.compile(\n",
        "    optimizer=tf.keras.optimizers.Adam(0.1),\n",
        "    loss='mean_squared_error'\n",
        ")"
      ],
      "metadata": {
        "id": "vRkE8pEdvTcT"
      },
      "execution_count": 14,
      "outputs": []
    },
    {
      "cell_type": "code",
      "source": [
        "print(\"Inicio de entrenamiento\")\n",
        "historial=modelo.fit(a_celsius, a_farenheit, epochs=1000, verbose=False)\n",
        "print(\"Final de entrenamiento\")"
      ],
      "metadata": {
        "id": "JRLx2YyOxJhl",
        "outputId": "0aa0df31-a121-4762-f9ee-808e34de6d8b",
        "colab": {
          "base_uri": "https://localhost:8080/"
        }
      },
      "execution_count": 15,
      "outputs": [
        {
          "output_type": "stream",
          "name": "stdout",
          "text": [
            "Inicio de entrenamiento\n",
            "Final de entrenamiento\n"
          ]
        }
      ]
    },
    {
      "cell_type": "code",
      "source": [
        "import matplotlib.pyplot as plt\n",
        "plt.xlabel('# de epoca')\n",
        "plt.ylabel('Magnitud de pérdida')\n",
        "plt.plot(historial.history[\"loss\"])"
      ],
      "metadata": {
        "id": "XeB5D1j7xqaq",
        "outputId": "519436d9-8e9f-452a-f9ab-2aa5a627b968",
        "colab": {
          "base_uri": "https://localhost:8080/",
          "height": 296
        }
      },
      "execution_count": 16,
      "outputs": [
        {
          "output_type": "execute_result",
          "data": {
            "text/plain": [
              "[<matplotlib.lines.Line2D at 0x7fd1e1237310>]"
            ]
          },
          "metadata": {},
          "execution_count": 16
        },
        {
          "output_type": "display_data",
          "data": {
            "text/plain": [
              "<Figure size 432x288 with 1 Axes>"
            ],
            "image/png": "[encoded data removed]"
          },
          "metadata": {
            "needs_background": "light"
          }
        }
      ]
    },
    {
      "cell_type": "code",
      "source": [
        "print(\"Intento #1 de celsius a Farenheit\")\n",
        "result=modelo.predict([100])"
      ],
      "metadata": {
        "id": "j31zFMRryncj"
      },
      "execution_count": null,
      "outputs": []
    }
  ],
  "metadata": {
    "kernelspec": {
      "display_name": "Python 3",
      "language": "python",
      "name": "python3"
    },
    "language_info": {
      "codemirror_mode": {
        "name": "ipython",
        "version": 3
      },
      "file_extension": ".py",
      "mimetype": "text/x-python",
      "name": "python",
      "nbconvert_exporter": "python",
      "pygments_lexer": "ipython3",
      "version": "3.7.4-final"
    },
    "colab": {
      "name": "ejercicio6.ipynb",
      "provenance": []
    }
  },
  "nbformat": 4,
  "nbformat_minor": 0
}